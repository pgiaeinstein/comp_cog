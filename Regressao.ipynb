{
 "cells": [
  {
   "cell_type": "markdown",
   "metadata": {},
   "source": [
    "# Regressão"
   ]
  },
  {
   "cell_type": "markdown",
   "metadata": {},
   "source": [
    "## Definição\n",
    "\n",
    "**Regressão** é uma equação que permite estimar o valor esperado de uma variável $y$ dados valores de entrada de outras variáveis.\n",
    "\n",
    "Regressão de forma geral, tem como premissa estimar um valor que não é dado inicialmente.\n",
    "\n",
    "Modelos de regressão são frequentemente ajustados usando a abordagem dos mínimos quadrados."
   ]
  },
  {
   "cell_type": "markdown",
   "metadata": {},
   "source": [
    "## O que devemos responder com um modelo de regressão?\n",
    "\n",
    "- Existe uma relação matemática entre as variáveis conhecidas?\n",
    "- Se positivo, como posso medir qual é essa relação?\n",
    "- Posso utilizar desta relação para prever valores?"
   ]
  },
  {
   "cell_type": "markdown",
   "metadata": {},
   "source": [
    "## Correlação entre variáveis\n",
    "\n",
    "- Mostra o módulo e direção da relação entre variáveis\n",
    "- É um valor que respeita o intervalo de $-1 \\le x \\le 1$\n",
    "- A correlação entre uma variável A para uma variável B é a mesma que da variável B para a variável A"
   ]
  },
  {
   "cell_type": "markdown",
   "metadata": {},
   "source": [
    "## r²\n",
    "\n",
    "- Mostra o quanto consegue explicar o modelo de regressão\n",
    "- Quanto maior o valor de $r^2$, maior é seu poder explicativo\n",
    "- Este valor está em um intervalo entre $0 \\le x \\le 1$\n",
    "\n",
    "Por exemplo, temos um valor de $r^2$ de $0,75$, isso quer dizer que 75% de nossa variável dependente pode ser explicada pelas variáveis utilizadas no modelo."
   ]
  },
  {
   "cell_type": "markdown",
   "metadata": {},
   "source": [
    "## Coeficiente de Determinação\n",
    "\n",
    "[![Alt text](https://img.youtube.com/vi/6LBTmVv3K_Q/0.jpg)](https://www.youtube.com/watch?v=6LBTmVv3K_Q)"
   ]
  },
  {
   "cell_type": "markdown",
   "metadata": {},
   "source": [
    "## Como a função de regressão é construída?\n",
    "\n",
    "![title](./imgs/f5.jpg)"
   ]
  },
  {
   "cell_type": "markdown",
   "metadata": {},
   "source": [
    "- Há um ponto onde a linha da função faz intersecção com o eixo X, este valor chamamos de $\\alpha$\n",
    "- Calculamos por meios matemáticos a inclinação da reta dado por $\\beta$\n",
    "- Existe um erro $\\varepsilon$ que deve ser considerado na equação\n",
    "\n",
    "![title](./imgs/f6.png)"
   ]
  },
  {
   "cell_type": "markdown",
   "metadata": {},
   "source": [
    "## Regressão simples\n",
    "\n",
    "- Apenas uma variável explanatória $x$ é utilizada para prever uma variável dependente $y$.\n",
    "\n",
    "Tem equação respeitando o modelo:\n",
    "\n",
    "$$\n",
    "y = \\alpha + \\beta x + \\varepsilon\n",
    "$$"
   ]
  },
  {
   "cell_type": "markdown",
   "metadata": {},
   "source": [
    "## Regressão múltipla\n",
    "\n",
    "- Duas ou mais variáveis explanatórias $x_1, x_2, \\ldots, x_n$ para prever uma variável dependente $y$.\n",
    "\n",
    "Tem equação respeitando o modelo:\n",
    "\n",
    "$$\n",
    "y = \\alpha + \\beta_1 x_1 + \\beta_2 x_2 + \\ldots + \\beta_n x_n + \\varepsilon\n",
    "$$\n",
    "\n",
    "Quando colocamos mais variáveis no modelo, o valor de $r^2$ tende a aumentar, mesmo que não aumente a acurácia do modelo. Para isso, utiliza-se $r²$ ajustado, para ajustar a variação do modelo levando em consideração o número de variáveis independentes. O valor de $r²$ ajustado sempre é menor que o valor de $r²$."
   ]
  },
  {
   "cell_type": "markdown",
   "metadata": {},
   "source": [
    "## Pontos de atenção\n",
    "\n",
    "- Verificar a colinearidade entre variáveis (duas variáveis independentes que são correlacionadas)\n",
    "    - Variáveis colineares independentes podem prejudicar o modelo\n",
    "- Colocar apenas variáveis capazes de explicar o problema\n"
   ]
  },
  {
   "cell_type": "markdown",
   "metadata": {},
   "source": [
    "## Requisitos básicos\n",
    "\n",
    "- Linearidade entre a variável dependente e as variáveis independentes\n",
    "- Variáveis normalmente distribuídas\n",
    "- Baixa ou nenhuma colinearidade entre as variáveis do modelo"
   ]
  },
  {
   "cell_type": "markdown",
   "metadata": {},
   "source": [
    "## Exemplo de implementação de um modelo de Regressão Linear"
   ]
  },
  {
   "cell_type": "code",
   "execution_count": 3,
   "metadata": {},
   "outputs": [],
   "source": [
    "import matplotlib.pyplot as plt\n",
    "import numpy as np\n",
    "from sklearn import datasets, linear_model\n",
    "from sklearn.metrics import mean_squared_error, r2_score"
   ]
  },
  {
   "cell_type": "code",
   "execution_count": 4,
   "metadata": {},
   "outputs": [],
   "source": [
    "# Utilizaremos o dataset \"diabetes\"\n",
    "diabetes = datasets.load_diabetes()"
   ]
  },
  {
   "cell_type": "code",
   "execution_count": 5,
   "metadata": {},
   "outputs": [],
   "source": [
    "# Escolhemos utilizar apenas uma variável independente\n",
    "diabetes_X = diabetes.data[:, np.newaxis, 2]"
   ]
  },
  {
   "cell_type": "code",
   "execution_count": 9,
   "metadata": {},
   "outputs": [],
   "source": [
    "# Vamos separar entre treino e teste\n",
    "diabetes_X_train = diabetes_X[:-20]\n",
    "diabetes_X_test = diabetes_X[-20:]\n",
    "diabetes_y_train = diabetes.target[:-20]\n",
    "diabetes_y_test = diabetes.target[-20:]"
   ]
  },
  {
   "cell_type": "code",
   "execution_count": 7,
   "metadata": {},
   "outputs": [],
   "source": [
    "# Criamos um objeto contendo nosso modelo\n",
    "regr = linear_model.LinearRegression()"
   ]
  },
  {
   "cell_type": "code",
   "execution_count": 10,
   "metadata": {},
   "outputs": [
    {
     "data": {
      "text/plain": [
       "LinearRegression(copy_X=True, fit_intercept=True, n_jobs=1, normalize=False)"
      ]
     },
     "execution_count": 10,
     "metadata": {},
     "output_type": "execute_result"
    }
   ],
   "source": [
    "# Treinamos o modelo utilizando nossa base de treino\n",
    "regr.fit(diabetes_X_train, diabetes_y_train)"
   ]
  },
  {
   "cell_type": "code",
   "execution_count": 11,
   "metadata": {},
   "outputs": [],
   "source": [
    "# Vamos prever os valores em nossa base de teste\n",
    "diabetes_y_pred = regr.predict(diabetes_X_test)"
   ]
  },
  {
   "cell_type": "code",
   "execution_count": 21,
   "metadata": {},
   "outputs": [
    {
     "name": "stdout",
     "output_type": "stream",
     "text": [
      "Intersecção: \n",
      " 152.91886182616167\n",
      "Coeficientes: \n",
      " [938.23786125]\n",
      "Erro quadrático médio: 2548.07\n",
      "r²: 0.47\n"
     ]
    }
   ],
   "source": [
    "# O ponto de intersecção da nossa função\n",
    "print('Intersecção: \\n', regr.intercept_)\n",
    "# Os coeficientes da nossa função\n",
    "print('Coeficientes: \\n', regr.coef_)\n",
    "# O erro quadrático médio\n",
    "print(\"Erro quadrático médio: %.2f\"\n",
    "      % mean_squared_error(diabetes_y_test, diabetes_y_pred))\n",
    "# Variância explicativa r2\n",
    "print('r²: %.2f' % r2_score(diabetes_y_test, diabetes_y_pred))"
   ]
  },
  {
   "cell_type": "code",
   "execution_count": 17,
   "metadata": {},
   "outputs": [
    {
     "data": {
      "image/png": "[encoded data removed]",
      "text/plain": [
       "<Figure size 432x288 with 1 Axes>"
      ]
     },
     "metadata": {},
     "output_type": "display_data"
    }
   ],
   "source": [
    "# Plot\n",
    "plt.scatter(diabetes_X_test, diabetes_y_test,  color = 'green')\n",
    "plt.plot(diabetes_X_test, diabetes_y_pred, color = 'blue', linewidth = 2)\n",
    "\n",
    "plt.show()"
   ]
  },
  {
   "cell_type": "markdown",
   "metadata": {},
   "source": [
    "## Exercícios\n",
    "\n",
    "Os exercícios propostos deverão ser resolvidos utilizando a base fornecida. Vamos utilizar um modelo \"pesado\", porém o que existe de mais atual em termos de regressão. \n",
    "\n",
    "Por este motivo, é aconselhado que os exercícios sejam realizados utilizando a plataforma fornecida."
   ]
  },
  {
   "cell_type": "markdown",
   "metadata": {},
   "source": [
    "### 1. Regressão Linear"
   ]
  },
  {
   "cell_type": "code",
   "execution_count": null,
   "metadata": {},
   "outputs": [],
   "source": []
  },
  {
   "cell_type": "markdown",
   "metadata": {},
   "source": [
    "### 2. Random Forest"
   ]
  },
  {
   "cell_type": "code",
   "execution_count": null,
   "metadata": {},
   "outputs": [],
   "source": []
  },
  {
   "cell_type": "markdown",
   "metadata": {},
   "source": [
    "### 3. XGBoost"
   ]
  },
  {
   "cell_type": "code",
   "execution_count": null,
   "metadata": {},
   "outputs": [],
   "source": []
  },
  {
   "cell_type": "markdown",
   "metadata": {},
   "source": [
    "### 4. MLP"
   ]
  },
  {
   "cell_type": "code",
   "execution_count": null,
   "metadata": {},
   "outputs": [],
   "source": []
  },
  {
   "cell_type": "markdown",
   "metadata": {},
   "source": [
    "## Desafio\n",
    "\n",
    "Utilizando as técnicas acima, tente resolver o desafio proposto neste [notebook]()."
   ]
  }
 ],
 "metadata": {
  "kernelspec": {
   "display_name": "Python 3",
   "language": "python",
   "name": "python3"
  },
  "language_info": {
   "codemirror_mode": {
    "name": "ipython",
    "version": 3
   },
   "file_extension": ".py",
   "mimetype": "text/x-python",
   "name": "python",
   "nbconvert_exporter": "python",
   "pygments_lexer": "ipython3",
   "version": "3.5.3"
  }
 },
 "nbformat": 4,
 "nbformat_minor": 2
}
